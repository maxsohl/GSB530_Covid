{
  "nbformat": 4,
  "nbformat_minor": 0,
  "metadata": {
    "colab": {
      "provenance": [],
      "authorship_tag": "ABX9TyNgSttJ4SY5QEUiTpebrx2t",
      "include_colab_link": true
    },
    "kernelspec": {
      "name": "ir",
      "display_name": "R"
    },
    "language_info": {
      "name": "R"
    },
    "gpuClass": "standard",
    "accelerator": "GPU"
  },
  "cells": [
    {
      "cell_type": "markdown",
      "metadata": {
        "id": "view-in-github",
        "colab_type": "text"
      },
      "source": [
        "<a href=\"https://colab.research.google.com/github/maxsohl/GSB530_Covid/blob/main/K_means.ipynb\" target=\"_parent\"><img src=\"https://colab.research.google.com/assets/colab-badge.svg\" alt=\"Open In Colab\"/></a>"
      ]
    },
    {
      "cell_type": "code",
      "source": [
        "#install.packages('factoextra')"
      ],
      "metadata": {
        "colab": {
          "base_uri": "https://localhost:8080/"
        },
        "id": "3iWoiyMcLzqD",
        "outputId": "8ad6d78e-77ed-4bf3-d410-caa8df708d78"
      },
      "execution_count": 3,
      "outputs": [
        {
          "output_type": "stream",
          "name": "stderr",
          "text": [
            "Installing package into ‘/usr/local/lib/R/site-library’\n",
            "(as ‘lib’ is unspecified)\n",
            "\n",
            "also installing the dependencies ‘SparseM’, ‘MatrixModels’, ‘minqa’, ‘nloptr’, ‘RcppEigen’, ‘lazyeval’, ‘later’, ‘carData’, ‘pbkrtest’, ‘quantreg’, ‘lme4’, ‘htmlwidgets’, ‘crosstalk’, ‘promises’, ‘estimability’, ‘numDeriv’, ‘mvtnorm’, ‘corrplot’, ‘viridis’, ‘car’, ‘DT’, ‘ellipse’, ‘emmeans’, ‘flashClust’, ‘leaps’, ‘multcompView’, ‘scatterplot3d’, ‘ggsci’, ‘cowplot’, ‘ggsignif’, ‘gridExtra’, ‘polynom’, ‘rstatix’, ‘plyr’, ‘Rcpp’, ‘abind’, ‘dendextend’, ‘FactoMineR’, ‘ggpubr’, ‘reshape2’, ‘ggrepel’\n",
            "\n",
            "\n"
          ]
        }
      ]
    },
    {
      "cell_type": "code",
      "execution_count": 1,
      "metadata": {
        "colab": {
          "base_uri": "https://localhost:8080/"
        },
        "id": "9Eet7MuwCGoL",
        "outputId": "66cd9651-fc27-49f4-d1db-92ad4e78de48"
      },
      "outputs": [
        {
          "output_type": "stream",
          "name": "stderr",
          "text": [
            "Warning message in system(\"timedatectl\", intern = TRUE):\n",
            "“running command 'timedatectl' had status 1”\n",
            "── \u001b[1mAttaching packages\u001b[22m ─────────────────────────────────────── tidyverse 1.3.1 ──\n",
            "\n",
            "\u001b[32m✔\u001b[39m \u001b[34mggplot2\u001b[39m 3.4.1     \u001b[32m✔\u001b[39m \u001b[34mpurrr  \u001b[39m 1.0.1\n",
            "\u001b[32m✔\u001b[39m \u001b[34mtibble \u001b[39m 3.1.8     \u001b[32m✔\u001b[39m \u001b[34mdplyr  \u001b[39m 1.1.0\n",
            "\u001b[32m✔\u001b[39m \u001b[34mtidyr  \u001b[39m 1.3.0     \u001b[32m✔\u001b[39m \u001b[34mstringr\u001b[39m 1.4.1\n",
            "\u001b[32m✔\u001b[39m \u001b[34mreadr  \u001b[39m 2.1.4     \u001b[32m✔\u001b[39m \u001b[34mforcats\u001b[39m 1.0.0\n",
            "\n",
            "── \u001b[1mConflicts\u001b[22m ────────────────────────────────────────── tidyverse_conflicts() ──\n",
            "\u001b[31m✖\u001b[39m \u001b[34mdplyr\u001b[39m::\u001b[32mfilter()\u001b[39m masks \u001b[34mstats\u001b[39m::filter()\n",
            "\u001b[31m✖\u001b[39m \u001b[34mdplyr\u001b[39m::\u001b[32mlag()\u001b[39m    masks \u001b[34mstats\u001b[39m::lag()\n",
            "\n",
            "Welcome! Want to learn more? See two factoextra-related books at https://goo.gl/ve3WBa\n",
            "\n"
          ]
        }
      ],
      "source": [
        "library(tidyverse)  # data manipulation\n",
        "library(ggplot2)\n",
        "library(cluster)    # clustering algorithms\n",
        "library(factoextra)\n",
        "library(readr)\n",
        "library(readxl)\n",
        "library(cluster)\n"
      ]
    },
    {
      "cell_type": "markdown",
      "source": [
        "# **Full Dataset**"
      ],
      "metadata": {
        "id": "yENn4zJQSUMi"
      }
    },
    {
      "cell_type": "code",
      "source": [
        "df = read_excel(\"COVID_TESTING_DATASET.xlsx\")"
      ],
      "metadata": {
        "id": "BgbEVWZ2ESvQ"
      },
      "execution_count": 2,
      "outputs": []
    },
    {
      "cell_type": "code",
      "source": [
        "# Clean data\n",
        "df = na.omit(df)\n",
        "df$Age_60_And_Above <- ifelse(df$Age_60_And_Above == \"Yes\", 1, 0)\n",
        "df$Male <- ifelse(df$Sex == \"male\", 1, 0)\n",
        "df$Positive <- ifelse(df$Result == \"positive\", 1, 0)\n",
        "df = subset(df, select = -c(Sex,Result) )"
      ],
      "metadata": {
        "id": "1-Bl9R8XEYJ2"
      },
      "execution_count": 3,
      "outputs": []
    },
    {
      "cell_type": "code",
      "source": [
        "set.seed(123)\n",
        "\n",
        "# function to compute total within-cluster sum of square \n",
        "wss <- function(k) {\n",
        "  kmeans(df, k, nstart = 10)$tot.withinss\n",
        "}\n",
        "\n",
        "# Compute and plot wss for k = 1 to k = 15\n",
        "k.values <- 1:10\n",
        "\n",
        "# extract wss for 2-15 clusters\n",
        "wss_values <- map_dbl(k.values, wss)\n",
        "\n",
        "plot(k.values, wss_values,\n",
        "       type=\"b\", pch = 19, frame = FALSE, \n",
        "       xlab=\"Number of clusters K\",\n",
        "       ylab=\"Total within-clusters sum of squares\")"
      ],
      "metadata": {
        "colab": {
          "base_uri": "https://localhost:8080/",
          "height": 437
        },
        "id": "7WBV0M4bKS7W",
        "outputId": "8c3bcc3e-f051-4dbc-efc4-94b3750dc4ed"
      },
      "execution_count": 4,
      "outputs": [
        {
          "output_type": "display_data",
          "data": {
            "text/plain": [
              "plot without title"
            ],
            "image/png": "[encoded data removed]"
          },
          "metadata": {
            "image/png": {
              "width": 420,
              "height": 420
            }
          }
        }
      ]
    },
    {
      "cell_type": "code",
      "source": [
        "km <- kmeans(df, centers = 2, nstart = 25)\n",
        "km[2]"
      ],
      "metadata": {
        "colab": {
          "base_uri": "https://localhost:8080/",
          "height": 147
        },
        "id": "YR4_FJEWZp4F",
        "outputId": "e6f6130f-a367-432c-8a76-193283237e4a"
      },
      "execution_count": 26,
      "outputs": [
        {
          "output_type": "display_data",
          "data": {
            "text/html": [
              "<strong>$centers</strong> = <table class=\"dataframe\">\n",
              "<caption>A matrix: 2 × 9 of type dbl</caption>\n",
              "<thead>\n",
              "\t<tr><th></th><th scope=col>Cough</th><th scope=col>Fever</th><th scope=col>Sore_Throat</th><th scope=col>Shortness_Of_Breath</th><th scope=col>Headache</th><th scope=col>Age_60_And_Above</th><th scope=col>Contact</th><th scope=col>Male</th><th scope=col>Positive</th></tr>\n",
              "</thead>\n",
              "<tbody>\n",
              "\t<tr><th scope=row>1</th><td>0.02676132</td><td>0.03028133</td><td>0.007783507</td><td>0.002404780</td><td>0.01786468</td><td>0.1326536</td><td>0.06386214</td><td>1</td><td>0.11323049</td></tr>\n",
              "\t<tr><th scope=row>2</th><td>0.02834831</td><td>0.02570080</td><td>0.010729400</td><td>0.003173036</td><td>0.02121794</td><td>0.1338348</td><td>0.06604055</td><td>0</td><td>0.09777688</td></tr>\n",
              "</tbody>\n",
              "</table>\n"
            ],
            "text/markdown": "**$centers** = \nA matrix: 2 × 9 of type dbl\n\n| <!--/--> | Cough | Fever | Sore_Throat | Shortness_Of_Breath | Headache | Age_60_And_Above | Contact | Male | Positive |\n|---|---|---|---|---|---|---|---|---|---|\n| 1 | 0.02676132 | 0.03028133 | 0.007783507 | 0.002404780 | 0.01786468 | 0.1326536 | 0.06386214 | 1 | 0.11323049 |\n| 2 | 0.02834831 | 0.02570080 | 0.010729400 | 0.003173036 | 0.02121794 | 0.1338348 | 0.06604055 | 0 | 0.09777688 |\n\n",
            "text/latex": "\\textbf{\\$centers} = A matrix: 2 × 9 of type dbl\n\\begin{tabular}{r|lllllllll}\n  & Cough & Fever & Sore\\_Throat & Shortness\\_Of\\_Breath & Headache & Age\\_60\\_And\\_Above & Contact & Male & Positive\\\\\n\\hline\n\t1 & 0.02676132 & 0.03028133 & 0.007783507 & 0.002404780 & 0.01786468 & 0.1326536 & 0.06386214 & 1 & 0.11323049\\\\\n\t2 & 0.02834831 & 0.02570080 & 0.010729400 & 0.003173036 & 0.02121794 & 0.1338348 & 0.06604055 & 0 & 0.09777688\\\\\n\\end{tabular}\n",
            "text/plain": [
              "$centers\n",
              "       Cough      Fever Sore_Throat Shortness_Of_Breath   Headache\n",
              "1 0.02676132 0.03028133 0.007783507         0.002404780 0.01786468\n",
              "2 0.02834831 0.02570080 0.010729400         0.003173036 0.02121794\n",
              "  Age_60_And_Above    Contact Male   Positive\n",
              "1        0.1326536 0.06386214    1 0.11323049\n",
              "2        0.1338348 0.06604055    0 0.09777688\n"
            ]
          },
          "metadata": {}
        }
      ]
    },
    {
      "cell_type": "code",
      "source": [],
      "metadata": {
        "id": "KE_pHPp7Zpt0"
      },
      "execution_count": null,
      "outputs": []
    },
    {
      "cell_type": "markdown",
      "source": [
        "# **Male Subset:**"
      ],
      "metadata": {
        "id": "iz39SzwOSooo"
      }
    },
    {
      "cell_type": "code",
      "source": [
        "males = df[df$Male == 1,]"
      ],
      "metadata": {
        "id": "IUfPWxC9SsLQ"
      },
      "execution_count": 7,
      "outputs": []
    },
    {
      "cell_type": "code",
      "source": [
        "# Elbow method to find best k value\n",
        "set.seed(123)\n",
        "\n",
        "# function to compute total within-cluster sum of square \n",
        "wss <- function(k) {\n",
        "  kmeans(males, k, nstart = 10 )$tot.withinss\n",
        "}\n",
        "\n",
        "# Compute and plot wss for k = 1 to k = 15\n",
        "k_values <- 1:10\n",
        "\n",
        "# extract wss for 2-15 clusters\n",
        "wss_values <- map_dbl(k_values, wss)\n",
        "\n",
        "plot(k_values, wss_values,\n",
        "       type=\"b\", pch = 19, frame = FALSE, \n",
        "       xlab=\"Number of clusters K\",\n",
        "       ylab=\"Total within-clusters sum of squares\")"
      ],
      "metadata": {
        "colab": {
          "base_uri": "https://localhost:8080/",
          "height": 437
        },
        "id": "Qf-U1MglSsIf",
        "outputId": "01707ef8-8111-45c6-9908-c55963d27ced"
      },
      "execution_count": 8,
      "outputs": [
        {
          "output_type": "display_data",
          "data": {
            "text/plain": [
              "plot without title"
            ],
            "image/png": "[encoded data removed]"
          },
          "metadata": {
            "image/png": {
              "width": 420,
              "height": 420
            }
          }
        }
      ]
    },
    {
      "cell_type": "code",
      "source": [
        "km <- kmeans(males, centers = 4, nstart = 25)\n",
        "km[2]"
      ],
      "metadata": {
        "colab": {
          "base_uri": "https://localhost:8080/",
          "height": 209
        },
        "id": "uyFHy3vqSsFV",
        "outputId": "130bf564-1633-4a8a-8f47-b843bef101a6"
      },
      "execution_count": 25,
      "outputs": [
        {
          "output_type": "display_data",
          "data": {
            "text/html": [
              "<strong>$centers</strong> = <table class=\"dataframe\">\n",
              "<caption>A matrix: 4 × 9 of type dbl</caption>\n",
              "<thead>\n",
              "\t<tr><th></th><th scope=col>Cough</th><th scope=col>Fever</th><th scope=col>Sore_Throat</th><th scope=col>Shortness_Of_Breath</th><th scope=col>Headache</th><th scope=col>Age_60_And_Above</th><th scope=col>Contact</th><th scope=col>Male</th><th scope=col>Positive</th></tr>\n",
              "</thead>\n",
              "<tbody>\n",
              "\t<tr><th scope=row>1</th><td>0.009580071</td><td>0.007782262</td><td>0.0005222994</td><td>0.0001841793</td><td>0.0007834492</td><td>0.00000000</td><td>0.02352547</td><td>1</td><td>0.0000000</td></tr>\n",
              "\t<tr><th scope=row>2</th><td>0.121366118</td><td>0.168460592</td><td>0.0495880812</td><td>0.0158770241</td><td>0.1104763107</td><td>0.04999842</td><td>0.00000000</td><td>1</td><td>1.0000000</td></tr>\n",
              "\t<tr><th scope=row>3</th><td>0.239898869</td><td>0.284930592</td><td>0.0919715690</td><td>0.0244716882</td><td>0.2236321137</td><td>0.08882316</td><td>1.00000000</td><td>1</td><td>0.8868006</td></tr>\n",
              "\t<tr><th scope=row>4</th><td>0.006413799</td><td>0.004638700</td><td>0.0002846856</td><td>0.0010382651</td><td>0.0005526250</td><td>1.00000000</td><td>0.01483714</td><td>1</td><td>0.0609897</td></tr>\n",
              "</tbody>\n",
              "</table>\n"
            ],
            "text/markdown": "**$centers** = \nA matrix: 4 × 9 of type dbl\n\n| <!--/--> | Cough | Fever | Sore_Throat | Shortness_Of_Breath | Headache | Age_60_And_Above | Contact | Male | Positive |\n|---|---|---|---|---|---|---|---|---|---|\n| 1 | 0.009580071 | 0.007782262 | 0.0005222994 | 0.0001841793 | 0.0007834492 | 0.00000000 | 0.02352547 | 1 | 0.0000000 |\n| 2 | 0.121366118 | 0.168460592 | 0.0495880812 | 0.0158770241 | 0.1104763107 | 0.04999842 | 0.00000000 | 1 | 1.0000000 |\n| 3 | 0.239898869 | 0.284930592 | 0.0919715690 | 0.0244716882 | 0.2236321137 | 0.08882316 | 1.00000000 | 1 | 0.8868006 |\n| 4 | 0.006413799 | 0.004638700 | 0.0002846856 | 0.0010382651 | 0.0005526250 | 1.00000000 | 0.01483714 | 1 | 0.0609897 |\n\n",
            "text/latex": "\\textbf{\\$centers} = A matrix: 4 × 9 of type dbl\n\\begin{tabular}{r|lllllllll}\n  & Cough & Fever & Sore\\_Throat & Shortness\\_Of\\_Breath & Headache & Age\\_60\\_And\\_Above & Contact & Male & Positive\\\\\n\\hline\n\t1 & 0.009580071 & 0.007782262 & 0.0005222994 & 0.0001841793 & 0.0007834492 & 0.00000000 & 0.02352547 & 1 & 0.0000000\\\\\n\t2 & 0.121366118 & 0.168460592 & 0.0495880812 & 0.0158770241 & 0.1104763107 & 0.04999842 & 0.00000000 & 1 & 1.0000000\\\\\n\t3 & 0.239898869 & 0.284930592 & 0.0919715690 & 0.0244716882 & 0.2236321137 & 0.08882316 & 1.00000000 & 1 & 0.8868006\\\\\n\t4 & 0.006413799 & 0.004638700 & 0.0002846856 & 0.0010382651 & 0.0005526250 & 1.00000000 & 0.01483714 & 1 & 0.0609897\\\\\n\\end{tabular}\n",
            "text/plain": [
              "$centers\n",
              "        Cough       Fever  Sore_Throat Shortness_Of_Breath     Headache\n",
              "1 0.009580071 0.007782262 0.0005222994        0.0001841793 0.0007834492\n",
              "2 0.121366118 0.168460592 0.0495880812        0.0158770241 0.1104763107\n",
              "3 0.239898869 0.284930592 0.0919715690        0.0244716882 0.2236321137\n",
              "4 0.006413799 0.004638700 0.0002846856        0.0010382651 0.0005526250\n",
              "  Age_60_And_Above    Contact Male  Positive\n",
              "1       0.00000000 0.02352547    1 0.0000000\n",
              "2       0.04999842 0.00000000    1 1.0000000\n",
              "3       0.08882316 1.00000000    1 0.8868006\n",
              "4       1.00000000 0.01483714    1 0.0609897\n"
            ]
          },
          "metadata": {}
        }
      ]
    },
    {
      "cell_type": "code",
      "source": [],
      "metadata": {
        "id": "n-XwOo7pSr-a"
      },
      "execution_count": null,
      "outputs": []
    },
    {
      "cell_type": "markdown",
      "source": [
        "# **Females:**"
      ],
      "metadata": {
        "id": "Ha_Xsjk4T1QX"
      }
    },
    {
      "cell_type": "code",
      "source": [
        "females = df[df$Male == 0,]"
      ],
      "metadata": {
        "id": "F-tX8tfRT4IT"
      },
      "execution_count": 10,
      "outputs": []
    },
    {
      "cell_type": "code",
      "source": [
        "# Elbow method to find best k value\n",
        "set.seed(123)\n",
        "\n",
        "# function to compute total within-cluster sum of square \n",
        "wss <- function(k) {\n",
        "  kmeans(females, k, nstart = 10 )$tot.withinss\n",
        "}\n",
        "\n",
        "# Compute and plot wss for k = 1 to k = 15\n",
        "k_values <- 1:15\n",
        "\n",
        "# extract wss for 2-15 clusters\n",
        "wss_values <- map_dbl(k_values, wss)\n",
        "\n",
        "plot(k_values, wss_values,\n",
        "       type=\"b\", pch = 19, frame = FALSE, \n",
        "       xlab=\"Number of clusters K\",\n",
        "       ylab=\"Total within-clusters sum of squares\")"
      ],
      "metadata": {
        "colab": {
          "base_uri": "https://localhost:8080/",
          "height": 437
        },
        "id": "ty_GbiC0T4EW",
        "outputId": "7a562d99-7da1-4fa5-9625-7a0b484e86f3"
      },
      "execution_count": 11,
      "outputs": [
        {
          "output_type": "display_data",
          "data": {
            "text/plain": [
              "plot without title"
            ],
            "image/png": "[encoded data removed]"
          },
          "metadata": {
            "image/png": {
              "width": 420,
              "height": 420
            }
          }
        }
      ]
    },
    {
      "cell_type": "code",
      "source": [
        "km <- kmeans(females, centers = 4, nstart = 25)\n",
        "km[2]"
      ],
      "metadata": {
        "colab": {
          "base_uri": "https://localhost:8080/",
          "height": 209
        },
        "id": "iIRcvyBIT4DH",
        "outputId": "9e8cbcf0-febd-436f-ec13-b76b981f6ddf"
      },
      "execution_count": 24,
      "outputs": [
        {
          "output_type": "display_data",
          "data": {
            "text/html": [
              "<strong>$centers</strong> = <table class=\"dataframe\">\n",
              "<caption>A matrix: 4 × 9 of type dbl</caption>\n",
              "<thead>\n",
              "\t<tr><th></th><th scope=col>Cough</th><th scope=col>Fever</th><th scope=col>Sore_Throat</th><th scope=col>Shortness_Of_Breath</th><th scope=col>Headache</th><th scope=col>Age_60_And_Above</th><th scope=col>Contact</th><th scope=col>Male</th><th scope=col>Positive</th></tr>\n",
              "</thead>\n",
              "<tbody>\n",
              "\t<tr><th scope=row>1</th><td>0.132864973</td><td>0.143441674</td><td>0.0688257547</td><td>0.0242414885</td><td>0.1400833784</td><td>0.04435266</td><td>0.00000000</td><td>0</td><td>1.00000000</td></tr>\n",
              "\t<tr><th scope=row>2</th><td>0.010464703</td><td>0.007076433</td><td>0.0005471740</td><td>0.0001841451</td><td>0.0008812659</td><td>0.00000000</td><td>0.00000000</td><td>0</td><td>0.00000000</td></tr>\n",
              "\t<tr><th scope=row>3</th><td>0.195916473</td><td>0.190657386</td><td>0.1042227378</td><td>0.0258313998</td><td>0.2059087394</td><td>0.06471771</td><td>1.00000000</td><td>0</td><td>0.62895592</td></tr>\n",
              "\t<tr><th scope=row>4</th><td>0.007625953</td><td>0.005344418</td><td>0.0004688086</td><td>0.0009532442</td><td>0.0006094512</td><td>1.00000000</td><td>0.01329854</td><td>0</td><td>0.04503688</td></tr>\n",
              "</tbody>\n",
              "</table>\n"
            ],
            "text/markdown": "**$centers** = \nA matrix: 4 × 9 of type dbl\n\n| <!--/--> | Cough | Fever | Sore_Throat | Shortness_Of_Breath | Headache | Age_60_And_Above | Contact | Male | Positive |\n|---|---|---|---|---|---|---|---|---|---|\n| 1 | 0.132864973 | 0.143441674 | 0.0688257547 | 0.0242414885 | 0.1400833784 | 0.04435266 | 0.00000000 | 0 | 1.00000000 |\n| 2 | 0.010464703 | 0.007076433 | 0.0005471740 | 0.0001841451 | 0.0008812659 | 0.00000000 | 0.00000000 | 0 | 0.00000000 |\n| 3 | 0.195916473 | 0.190657386 | 0.1042227378 | 0.0258313998 | 0.2059087394 | 0.06471771 | 1.00000000 | 0 | 0.62895592 |\n| 4 | 0.007625953 | 0.005344418 | 0.0004688086 | 0.0009532442 | 0.0006094512 | 1.00000000 | 0.01329854 | 0 | 0.04503688 |\n\n",
            "text/latex": "\\textbf{\\$centers} = A matrix: 4 × 9 of type dbl\n\\begin{tabular}{r|lllllllll}\n  & Cough & Fever & Sore\\_Throat & Shortness\\_Of\\_Breath & Headache & Age\\_60\\_And\\_Above & Contact & Male & Positive\\\\\n\\hline\n\t1 & 0.132864973 & 0.143441674 & 0.0688257547 & 0.0242414885 & 0.1400833784 & 0.04435266 & 0.00000000 & 0 & 1.00000000\\\\\n\t2 & 0.010464703 & 0.007076433 & 0.0005471740 & 0.0001841451 & 0.0008812659 & 0.00000000 & 0.00000000 & 0 & 0.00000000\\\\\n\t3 & 0.195916473 & 0.190657386 & 0.1042227378 & 0.0258313998 & 0.2059087394 & 0.06471771 & 1.00000000 & 0 & 0.62895592\\\\\n\t4 & 0.007625953 & 0.005344418 & 0.0004688086 & 0.0009532442 & 0.0006094512 & 1.00000000 & 0.01329854 & 0 & 0.04503688\\\\\n\\end{tabular}\n",
            "text/plain": [
              "$centers\n",
              "        Cough       Fever  Sore_Throat Shortness_Of_Breath     Headache\n",
              "1 0.132864973 0.143441674 0.0688257547        0.0242414885 0.1400833784\n",
              "2 0.010464703 0.007076433 0.0005471740        0.0001841451 0.0008812659\n",
              "3 0.195916473 0.190657386 0.1042227378        0.0258313998 0.2059087394\n",
              "4 0.007625953 0.005344418 0.0004688086        0.0009532442 0.0006094512\n",
              "  Age_60_And_Above    Contact Male   Positive\n",
              "1       0.04435266 0.00000000    0 1.00000000\n",
              "2       0.00000000 0.00000000    0 0.00000000\n",
              "3       0.06471771 1.00000000    0 0.62895592\n",
              "4       1.00000000 0.01329854    0 0.04503688\n"
            ]
          },
          "metadata": {}
        }
      ]
    },
    {
      "cell_type": "markdown",
      "source": [
        "# **Old:**"
      ],
      "metadata": {
        "id": "3T73WmplUIus"
      }
    },
    {
      "cell_type": "code",
      "source": [
        "old = df[df$Age_60_And_Above == 1,]"
      ],
      "metadata": {
        "id": "-qq_2uRUVYIj"
      },
      "execution_count": 13,
      "outputs": []
    },
    {
      "cell_type": "code",
      "source": [
        "# Elbow method to find best k value\n",
        "set.seed(123)\n",
        "\n",
        "# function to compute total within-cluster sum of square \n",
        "wss <- function(k) {\n",
        "  kmeans(old, k, nstart = 10 )$tot.withinss\n",
        "}\n",
        "\n",
        "# Compute and plot wss for k = 1 to k = 15\n",
        "k_values <- 1:15\n",
        "\n",
        "# extract wss for 2-15 clusters\n",
        "wss_values <- map_dbl(k_values, wss)\n",
        "\n",
        "plot(k_values, wss_values,\n",
        "       type=\"b\", pch = 19, frame = FALSE, \n",
        "       xlab=\"Number of clusters K\",\n",
        "       ylab=\"Total within-clusters sum of squares\")"
      ],
      "metadata": {
        "colab": {
          "base_uri": "https://localhost:8080/",
          "height": 437
        },
        "id": "-tZNAAFPVYFQ",
        "outputId": "a829ea2c-753d-4162-8aea-63c078e4f143"
      },
      "execution_count": 14,
      "outputs": [
        {
          "output_type": "display_data",
          "data": {
            "text/plain": [
              "plot without title"
            ],
            "image/png": "[encoded data removed]"
          },
          "metadata": {
            "image/png": {
              "width": 420,
              "height": 420
            }
          }
        }
      ]
    },
    {
      "cell_type": "code",
      "source": [
        "km = kmeans(old, centers = 3, nstart = 25)\n",
        "km[2]"
      ],
      "metadata": {
        "colab": {
          "base_uri": "https://localhost:8080/",
          "height": 178
        },
        "id": "rifz-9BIVYDy",
        "outputId": "c9c363ff-cdc7-40d8-ebb8-ce7b4be5875c"
      },
      "execution_count": 23,
      "outputs": [
        {
          "output_type": "display_data",
          "data": {
            "text/html": [
              "<strong>$centers</strong> = <table class=\"dataframe\">\n",
              "<caption>A matrix: 3 × 9 of type dbl</caption>\n",
              "<thead>\n",
              "\t<tr><th></th><th scope=col>Cough</th><th scope=col>Fever</th><th scope=col>Sore_Throat</th><th scope=col>Shortness_Of_Breath</th><th scope=col>Headache</th><th scope=col>Age_60_And_Above</th><th scope=col>Contact</th><th scope=col>Male</th><th scope=col>Positive</th></tr>\n",
              "</thead>\n",
              "<tbody>\n",
              "\t<tr><th scope=row>1</th><td>0.19203120</td><td>0.204726216</td><td>0.0566687060</td><td>0.0325787703</td><td>0.1125726522</td><td>1</td><td>0.29206179</td><td>0.5375497</td><td>0.998547</td></tr>\n",
              "\t<tr><th scope=row>2</th><td>0.00892361</td><td>0.006406694</td><td>0.0008825548</td><td>0.0006537443</td><td>0.0010459909</td><td>1</td><td>0.01515052</td><td>0.0000000</td><td>0.000000</td></tr>\n",
              "\t<tr><th scope=row>3</th><td>0.00767833</td><td>0.005772109</td><td>0.0003563030</td><td>0.0005700848</td><td>0.0009976484</td><td>1</td><td>0.01683532</td><td>1.0000000</td><td>0.000000</td></tr>\n",
              "</tbody>\n",
              "</table>\n"
            ],
            "text/markdown": "**$centers** = \nA matrix: 3 × 9 of type dbl\n\n| <!--/--> | Cough | Fever | Sore_Throat | Shortness_Of_Breath | Headache | Age_60_And_Above | Contact | Male | Positive |\n|---|---|---|---|---|---|---|---|---|---|\n| 1 | 0.19203120 | 0.204726216 | 0.0566687060 | 0.0325787703 | 0.1125726522 | 1 | 0.29206179 | 0.5375497 | 0.998547 |\n| 2 | 0.00892361 | 0.006406694 | 0.0008825548 | 0.0006537443 | 0.0010459909 | 1 | 0.01515052 | 0.0000000 | 0.000000 |\n| 3 | 0.00767833 | 0.005772109 | 0.0003563030 | 0.0005700848 | 0.0009976484 | 1 | 0.01683532 | 1.0000000 | 0.000000 |\n\n",
            "text/latex": "\\textbf{\\$centers} = A matrix: 3 × 9 of type dbl\n\\begin{tabular}{r|lllllllll}\n  & Cough & Fever & Sore\\_Throat & Shortness\\_Of\\_Breath & Headache & Age\\_60\\_And\\_Above & Contact & Male & Positive\\\\\n\\hline\n\t1 & 0.19203120 & 0.204726216 & 0.0566687060 & 0.0325787703 & 0.1125726522 & 1 & 0.29206179 & 0.5375497 & 0.998547\\\\\n\t2 & 0.00892361 & 0.006406694 & 0.0008825548 & 0.0006537443 & 0.0010459909 & 1 & 0.01515052 & 0.0000000 & 0.000000\\\\\n\t3 & 0.00767833 & 0.005772109 & 0.0003563030 & 0.0005700848 & 0.0009976484 & 1 & 0.01683532 & 1.0000000 & 0.000000\\\\\n\\end{tabular}\n",
            "text/plain": [
              "$centers\n",
              "       Cough       Fever  Sore_Throat Shortness_Of_Breath     Headache\n",
              "1 0.19203120 0.204726216 0.0566687060        0.0325787703 0.1125726522\n",
              "2 0.00892361 0.006406694 0.0008825548        0.0006537443 0.0010459909\n",
              "3 0.00767833 0.005772109 0.0003563030        0.0005700848 0.0009976484\n",
              "  Age_60_And_Above    Contact      Male Positive\n",
              "1                1 0.29206179 0.5375497 0.998547\n",
              "2                1 0.01515052 0.0000000 0.000000\n",
              "3                1 0.01683532 1.0000000 0.000000\n"
            ]
          },
          "metadata": {}
        }
      ]
    },
    {
      "cell_type": "markdown",
      "source": [
        "# **Young**"
      ],
      "metadata": {
        "id": "qdu1x33CW3FA"
      }
    },
    {
      "cell_type": "code",
      "source": [
        "young = df[df$Age_60_And_Above == 0,]"
      ],
      "metadata": {
        "id": "21Gt9UutW5c5"
      },
      "execution_count": 16,
      "outputs": []
    },
    {
      "cell_type": "code",
      "source": [
        "# Elbow method to find best k value\n",
        "set.seed(123)\n",
        "\n",
        "# function to compute total within-cluster sum of square \n",
        "wss <- function(k) {\n",
        "  kmeans(young, k, nstart = 10 )$tot.withinss\n",
        "}\n",
        "\n",
        "# Compute and plot wss for k = 1 to k = 15\n",
        "k_values <- 1:15\n",
        "\n",
        "# extract wss for 2-15 clusters\n",
        "wss_values <- map_dbl(k_values, wss)\n",
        "\n",
        "plot(k_values, wss_values,\n",
        "       type=\"b\", pch = 19, frame = FALSE, \n",
        "       xlab=\"Number of clusters K\",\n",
        "       ylab=\"Total within-clusters sum of squares\")"
      ],
      "metadata": {
        "colab": {
          "base_uri": "https://localhost:8080/",
          "height": 437
        },
        "id": "WcgrkJp1W5aB",
        "outputId": "faab3431-a456-43a2-8ac1-2b4d7caff5a5"
      },
      "execution_count": 17,
      "outputs": [
        {
          "output_type": "display_data",
          "data": {
            "text/plain": [
              "plot without title"
            ],
            "image/png": "[encoded data removed]"
          },
          "metadata": {
            "image/png": {
              "width": 420,
              "height": 420
            }
          }
        }
      ]
    },
    {
      "cell_type": "code",
      "source": [
        "km = kmeans(young, 3, nstart = 25)\n",
        "km[2]"
      ],
      "metadata": {
        "colab": {
          "base_uri": "https://localhost:8080/",
          "height": 178
        },
        "id": "d0q7YRRBW5W7",
        "outputId": "cbbcf4dc-8f98-4de0-b1cc-d02b719b51d8"
      },
      "execution_count": 22,
      "outputs": [
        {
          "output_type": "display_data",
          "data": {
            "text/html": [
              "<strong>$centers</strong> = <table class=\"dataframe\">\n",
              "<caption>A matrix: 3 × 9 of type dbl</caption>\n",
              "<thead>\n",
              "\t<tr><th></th><th scope=col>Cough</th><th scope=col>Fever</th><th scope=col>Sore_Throat</th><th scope=col>Shortness_Of_Breath</th><th scope=col>Headache</th><th scope=col>Age_60_And_Above</th><th scope=col>Contact</th><th scope=col>Male</th><th scope=col>Positive</th></tr>\n",
              "</thead>\n",
              "<tbody>\n",
              "\t<tr><th scope=row>1</th><td>0.01375348</td><td>0.009779801</td><td>0.001783946</td><td>0.0004364160</td><td>0.003356064</td><td>0</td><td>0.02984218</td><td>0.0000000</td><td>0.0000000</td></tr>\n",
              "\t<tr><th scope=row>2</th><td>0.15013722</td><td>0.180459032</td><td>0.079843743</td><td>0.0215683237</td><td>0.170521447</td><td>0</td><td>0.39296623</td><td>0.5208601</td><td>0.9956952</td></tr>\n",
              "\t<tr><th scope=row>3</th><td>0.01240479</td><td>0.010376954</td><td>0.001002987</td><td>0.0003306851</td><td>0.002320262</td><td>0</td><td>0.02921234</td><td>1.0000000</td><td>0.0000000</td></tr>\n",
              "</tbody>\n",
              "</table>\n"
            ],
            "text/markdown": "**$centers** = \nA matrix: 3 × 9 of type dbl\n\n| <!--/--> | Cough | Fever | Sore_Throat | Shortness_Of_Breath | Headache | Age_60_And_Above | Contact | Male | Positive |\n|---|---|---|---|---|---|---|---|---|---|\n| 1 | 0.01375348 | 0.009779801 | 0.001783946 | 0.0004364160 | 0.003356064 | 0 | 0.02984218 | 0.0000000 | 0.0000000 |\n| 2 | 0.15013722 | 0.180459032 | 0.079843743 | 0.0215683237 | 0.170521447 | 0 | 0.39296623 | 0.5208601 | 0.9956952 |\n| 3 | 0.01240479 | 0.010376954 | 0.001002987 | 0.0003306851 | 0.002320262 | 0 | 0.02921234 | 1.0000000 | 0.0000000 |\n\n",
            "text/latex": "\\textbf{\\$centers} = A matrix: 3 × 9 of type dbl\n\\begin{tabular}{r|lllllllll}\n  & Cough & Fever & Sore\\_Throat & Shortness\\_Of\\_Breath & Headache & Age\\_60\\_And\\_Above & Contact & Male & Positive\\\\\n\\hline\n\t1 & 0.01375348 & 0.009779801 & 0.001783946 & 0.0004364160 & 0.003356064 & 0 & 0.02984218 & 0.0000000 & 0.0000000\\\\\n\t2 & 0.15013722 & 0.180459032 & 0.079843743 & 0.0215683237 & 0.170521447 & 0 & 0.39296623 & 0.5208601 & 0.9956952\\\\\n\t3 & 0.01240479 & 0.010376954 & 0.001002987 & 0.0003306851 & 0.002320262 & 0 & 0.02921234 & 1.0000000 & 0.0000000\\\\\n\\end{tabular}\n",
            "text/plain": [
              "$centers\n",
              "       Cough       Fever Sore_Throat Shortness_Of_Breath    Headache\n",
              "1 0.01375348 0.009779801 0.001783946        0.0004364160 0.003356064\n",
              "2 0.15013722 0.180459032 0.079843743        0.0215683237 0.170521447\n",
              "3 0.01240479 0.010376954 0.001002987        0.0003306851 0.002320262\n",
              "  Age_60_And_Above    Contact      Male  Positive\n",
              "1                0 0.02984218 0.0000000 0.0000000\n",
              "2                0 0.39296623 0.5208601 0.9956952\n",
              "3                0 0.02921234 1.0000000 0.0000000\n"
            ]
          },
          "metadata": {}
        }
      ]
    },
    {
      "cell_type": "code",
      "source": [],
      "metadata": {
        "id": "BvRkN6htW5VW"
      },
      "execution_count": 27,
      "outputs": []
    },
    {
      "cell_type": "code",
      "source": [],
      "metadata": {
        "id": "ns88LPvPeEI_"
      },
      "execution_count": null,
      "outputs": []
    }
  ]
}