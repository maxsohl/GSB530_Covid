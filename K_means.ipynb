{
  "nbformat": 4,
  "nbformat_minor": 0,
  "metadata": {
    "colab": {
      "provenance": [],
      "authorship_tag": "ABX9TyPetUEKTiBtNTuV4NnL+A9C",
      "include_colab_link": true
    },
    "kernelspec": {
      "name": "ir",
      "display_name": "R"
    },
    "language_info": {
      "name": "R"
    },
    "gpuClass": "standard",
    "accelerator": "GPU"
  },
  "cells": [
    {
      "cell_type": "markdown",
      "metadata": {
        "id": "view-in-github",
        "colab_type": "text"
      },
      "source": [
        "<a href=\"https://colab.research.google.com/github/maxsohl/GSB530_Covid/blob/main/K_means.ipynb\" target=\"_parent\"><img src=\"https://colab.research.google.com/assets/colab-badge.svg\" alt=\"Open In Colab\"/></a>"
      ]
    },
    {
      "cell_type": "code",
      "source": [
        "install.packages('factoextra')"
      ],
      "metadata": {
        "colab": {
          "base_uri": "https://localhost:8080/"
        },
        "id": "3iWoiyMcLzqD",
        "outputId": "5449e662-4449-43d0-8011-4680e044b1ed"
      },
      "execution_count": 1,
      "outputs": [
        {
          "output_type": "stream",
          "name": "stderr",
          "text": [
            "Installing package into ‘/usr/local/lib/R/site-library’\n",
            "(as ‘lib’ is unspecified)\n",
            "\n",
            "also installing the dependencies ‘SparseM’, ‘MatrixModels’, ‘minqa’, ‘nloptr’, ‘RcppEigen’, ‘lazyeval’, ‘later’, ‘carData’, ‘pbkrtest’, ‘quantreg’, ‘lme4’, ‘htmlwidgets’, ‘crosstalk’, ‘promises’, ‘estimability’, ‘numDeriv’, ‘mvtnorm’, ‘corrplot’, ‘viridis’, ‘car’, ‘DT’, ‘ellipse’, ‘emmeans’, ‘flashClust’, ‘leaps’, ‘multcompView’, ‘scatterplot3d’, ‘ggsci’, ‘cowplot’, ‘ggsignif’, ‘gridExtra’, ‘polynom’, ‘rstatix’, ‘plyr’, ‘Rcpp’, ‘abind’, ‘dendextend’, ‘FactoMineR’, ‘ggpubr’, ‘reshape2’, ‘ggrepel’\n",
            "\n",
            "\n"
          ]
        }
      ]
    },
    {
      "cell_type": "code",
      "execution_count": 2,
      "metadata": {
        "colab": {
          "base_uri": "https://localhost:8080/"
        },
        "id": "9Eet7MuwCGoL",
        "outputId": "6bb26faa-aa55-4952-87f2-3de7b08d4bf0"
      },
      "outputs": [
        {
          "output_type": "stream",
          "name": "stderr",
          "text": [
            "Warning message in system(\"timedatectl\", intern = TRUE):\n",
            "“running command 'timedatectl' had status 1”\n",
            "── \u001b[1mAttaching packages\u001b[22m ─────────────────────────────────────── tidyverse 1.3.1 ──\n",
            "\n",
            "\u001b[32m✔\u001b[39m \u001b[34mggplot2\u001b[39m 3.4.1     \u001b[32m✔\u001b[39m \u001b[34mpurrr  \u001b[39m 1.0.1\n",
            "\u001b[32m✔\u001b[39m \u001b[34mtibble \u001b[39m 3.1.8     \u001b[32m✔\u001b[39m \u001b[34mdplyr  \u001b[39m 1.1.0\n",
            "\u001b[32m✔\u001b[39m \u001b[34mtidyr  \u001b[39m 1.3.0     \u001b[32m✔\u001b[39m \u001b[34mstringr\u001b[39m 1.4.1\n",
            "\u001b[32m✔\u001b[39m \u001b[34mreadr  \u001b[39m 2.1.4     \u001b[32m✔\u001b[39m \u001b[34mforcats\u001b[39m 1.0.0\n",
            "\n",
            "── \u001b[1mConflicts\u001b[22m ────────────────────────────────────────── tidyverse_conflicts() ──\n",
            "\u001b[31m✖\u001b[39m \u001b[34mdplyr\u001b[39m::\u001b[32mfilter()\u001b[39m masks \u001b[34mstats\u001b[39m::filter()\n",
            "\u001b[31m✖\u001b[39m \u001b[34mdplyr\u001b[39m::\u001b[32mlag()\u001b[39m    masks \u001b[34mstats\u001b[39m::lag()\n",
            "\n",
            "Welcome! Want to learn more? See two factoextra-related books at https://goo.gl/ve3WBa\n",
            "\n"
          ]
        }
      ],
      "source": [
        "library(tidyverse)  # data manipulation\n",
        "library(ggplot2)\n",
        "library(cluster)    # clustering algorithms\n",
        "library(factoextra)\n",
        "library(readr)\n",
        "library(readxl)\n",
        "library(cluster)"
      ]
    },
    {
      "cell_type": "markdown",
      "source": [
        "# **Full Dataset**"
      ],
      "metadata": {
        "id": "yENn4zJQSUMi"
      }
    },
    {
      "cell_type": "code",
      "source": [
        "df = read_excel(\"COVID_TESTING_DATASET.xlsx\") "
      ],
      "metadata": {
        "id": "BgbEVWZ2ESvQ"
      },
      "execution_count": 11,
      "outputs": []
    },
    {
      "cell_type": "code",
      "source": [
        "# Clean data\n",
        "df = na.omit(df)\n",
        "df$Age_60_And_Above <- ifelse(df$Age_60_And_Above == \"Yes\", 1, 0)\n",
        "df$Male <- ifelse(df$Sex == \"male\", 1, 0)\n",
        "df$Positive <- ifelse(df$Result == \"positive\", 1, 0)\n",
        "df = subset(df, select = -c(Sex,Result) )\n",
        "df = df[df$Positive == 1,]\n",
        "\n",
        "# Remove Contact Column\n",
        "df = subset(df, select = -c(Contact) )"
      ],
      "metadata": {
        "id": "1-Bl9R8XEYJ2"
      },
      "execution_count": 12,
      "outputs": []
    },
    {
      "cell_type": "code",
      "source": [],
      "metadata": {
        "id": "0xG-04jjdeGc"
      },
      "execution_count": 10,
      "outputs": []
    },
    {
      "cell_type": "code",
      "source": [
        "set.seed(123)\n",
        "\n",
        "# function to compute total within-cluster sum of square \n",
        "wss <- function(k) {\n",
        "  kmeans(df, k, nstart = 10)$tot.withinss\n",
        "}\n",
        "\n",
        "# Compute and plot wss for k = 1 to k = 15\n",
        "k.values <- 1:10\n",
        "\n",
        "# extract wss for 2-15 clusters\n",
        "wss_values <- map_dbl(k.values, wss)\n",
        "\n",
        "plot(k.values, wss_values,\n",
        "       type=\"b\", pch = 19, frame = FALSE, \n",
        "       xlab=\"Number of clusters K\",\n",
        "       ylab=\"Total within-clusters sum of squares\")"
      ],
      "metadata": {
        "colab": {
          "base_uri": "https://localhost:8080/",
          "height": 437
        },
        "id": "7WBV0M4bKS7W",
        "outputId": "7df910ab-aaa9-475a-fb14-c22e9477e122"
      },
      "execution_count": 13,
      "outputs": [
        {
          "output_type": "display_data",
          "data": {
            "text/plain": [
              "plot without title"
            ],
            "image/png": "[encoded data removed]"
          },
          "metadata": {
            "image/png": {
              "width": 420,
              "height": 420
            }
          }
        }
      ]
    },
    {
      "cell_type": "code",
      "source": [
        "km <- kmeans(df, centers = 2, nstart = 25) \n",
        "km[2] "
      ],
      "metadata": {
        "colab": {
          "base_uri": "https://localhost:8080/",
          "height": 147
        },
        "id": "YR4_FJEWZp4F",
        "outputId": "1b0ad80b-d0bb-4edf-9140-1e4b65b54b36"
      },
      "execution_count": 14,
      "outputs": [
        {
          "output_type": "display_data",
          "data": {
            "text/html": [
              "<strong>$centers</strong> = <table class=\"dataframe\">\n",
              "<caption>A matrix: 2 × 8 of type dbl</caption>\n",
              "<thead>\n",
              "\t<tr><th></th><th scope=col>Cough</th><th scope=col>Fever</th><th scope=col>Sore_Throat</th><th scope=col>Shortness_Of_Breath</th><th scope=col>Headache</th><th scope=col>Age_60_And_Above</th><th scope=col>Male</th><th scope=col>Positive</th></tr>\n",
              "</thead>\n",
              "<tbody>\n",
              "\t<tr><th scope=row>1</th><td>0.1652721</td><td>0.1724994</td><td>0.09214357</td><td>0.02744356</td><td>0.1843889</td><td>0.1228649</td><td>0</td><td>1</td></tr>\n",
              "\t<tr><th scope=row>2</th><td>0.1414316</td><td>0.1880252</td><td>0.05931779</td><td>0.01814034</td><td>0.1380001</td><td>0.1302469</td><td>1</td><td>1</td></tr>\n",
              "</tbody>\n",
              "</table>\n"
            ],
            "text/markdown": "**$centers** = \nA matrix: 2 × 8 of type dbl\n\n| <!--/--> | Cough | Fever | Sore_Throat | Shortness_Of_Breath | Headache | Age_60_And_Above | Male | Positive |\n|---|---|---|---|---|---|---|---|---|\n| 1 | 0.1652721 | 0.1724994 | 0.09214357 | 0.02744356 | 0.1843889 | 0.1228649 | 0 | 1 |\n| 2 | 0.1414316 | 0.1880252 | 0.05931779 | 0.01814034 | 0.1380001 | 0.1302469 | 1 | 1 |\n\n",
            "text/latex": "\\textbf{\\$centers} = A matrix: 2 × 8 of type dbl\n\\begin{tabular}{r|llllllll}\n  & Cough & Fever & Sore\\_Throat & Shortness\\_Of\\_Breath & Headache & Age\\_60\\_And\\_Above & Male & Positive\\\\\n\\hline\n\t1 & 0.1652721 & 0.1724994 & 0.09214357 & 0.02744356 & 0.1843889 & 0.1228649 & 0 & 1\\\\\n\t2 & 0.1414316 & 0.1880252 & 0.05931779 & 0.01814034 & 0.1380001 & 0.1302469 & 1 & 1\\\\\n\\end{tabular}\n",
            "text/plain": [
              "$centers\n",
              "      Cough     Fever Sore_Throat Shortness_Of_Breath  Headache\n",
              "1 0.1652721 0.1724994  0.09214357          0.02744356 0.1843889\n",
              "2 0.1414316 0.1880252  0.05931779          0.01814034 0.1380001\n",
              "  Age_60_And_Above Male Positive\n",
              "1        0.1228649    0        1\n",
              "2        0.1302469    1        1\n"
            ]
          },
          "metadata": {}
        }
      ]
    },
    {
      "cell_type": "code",
      "source": [
        "# for i in u_labels:\n",
        "#     plt.scatter(df[label == i , 0] , df[label == i , 1] , label = i)\n",
        "# plt.scatter(centroids[:,0] , centroids[:,1] , s = 80, color = 'k)\n",
        "# plt.legend()\n",
        "# plt.show()"
      ],
      "metadata": {
        "id": "KE_pHPp7Zpt0"
      },
      "execution_count": 15,
      "outputs": []
    },
    {
      "cell_type": "markdown",
      "source": [
        "# **Male Subset:**"
      ],
      "metadata": {
        "id": "iz39SzwOSooo"
      }
    },
    {
      "cell_type": "code",
      "source": [
        "males = df[df$Male == 1,]"
      ],
      "metadata": {
        "id": "IUfPWxC9SsLQ"
      },
      "execution_count": 16,
      "outputs": []
    },
    {
      "cell_type": "code",
      "source": [
        "# Elbow method to find best k value\n",
        "set.seed(123)\n",
        "\n",
        "# function to compute total within-cluster sum of square \n",
        "wss <- function(k) {\n",
        "  kmeans(males, k, nstart = 10 )$tot.withinss\n",
        "}\n",
        "\n",
        "# Compute and plot wss for k = 1 to k = 15\n",
        "k_values <- 1:10\n",
        "\n",
        "# extract wss for 2-15 clusters\n",
        "wss_values <- map_dbl(k_values, wss)\n",
        "\n",
        "plot(k_values, wss_values,\n",
        "       type=\"b\", pch = 19, frame = FALSE, \n",
        "       xlab=\"Number of clusters K\",\n",
        "       ylab=\"Total within-clusters sum of squares\")"
      ],
      "metadata": {
        "colab": {
          "base_uri": "https://localhost:8080/",
          "height": 437
        },
        "id": "Qf-U1MglSsIf",
        "outputId": "7229b841-7ccf-47a7-835c-abcd30af347b"
      },
      "execution_count": 17,
      "outputs": [
        {
          "output_type": "display_data",
          "data": {
            "text/plain": [
              "plot without title"
            ],
            "image/png": "[encoded data removed]"
          },
          "metadata": {
            "image/png": {
              "width": 420,
              "height": 420
            }
          }
        }
      ]
    },
    {
      "cell_type": "code",
      "source": [
        "km <- kmeans(males, centers = 4, nstart = 25)\n",
        "km[2]"
      ],
      "metadata": {
        "colab": {
          "base_uri": "https://localhost:8080/",
          "height": 209
        },
        "id": "uyFHy3vqSsFV",
        "outputId": "d49ed945-f4c4-4a20-8f2d-f5736503bb5e"
      },
      "execution_count": 18,
      "outputs": [
        {
          "output_type": "display_data",
          "data": {
            "text/html": [
              "<strong>$centers</strong> = <table class=\"dataframe\">\n",
              "<caption>A matrix: 4 × 8 of type dbl</caption>\n",
              "<thead>\n",
              "\t<tr><th></th><th scope=col>Cough</th><th scope=col>Fever</th><th scope=col>Sore_Throat</th><th scope=col>Shortness_Of_Breath</th><th scope=col>Headache</th><th scope=col>Age_60_And_Above</th><th scope=col>Male</th><th scope=col>Positive</th></tr>\n",
              "</thead>\n",
              "<tbody>\n",
              "\t<tr><th scope=row>1</th><td>0.09803555</td><td>0.0000000</td><td>0.02469598</td><td>0.018521983</td><td>0.03910196</td><td>1.00000000</td><td>1</td><td>1</td></tr>\n",
              "\t<tr><th scope=row>2</th><td>0.06974841</td><td>0.0000000</td><td>0.02796365</td><td>0.007042048</td><td>0.00000000</td><td>0.00000000</td><td>1</td><td>1</td></tr>\n",
              "\t<tr><th scope=row>3</th><td>0.33595727</td><td>1.0000000</td><td>0.09488333</td><td>0.036688220</td><td>0.00000000</td><td>0.17303908</td><td>1</td><td>1</td></tr>\n",
              "\t<tr><th scope=row>4</th><td>0.32139400</td><td>0.4180611</td><td>0.19831282</td><td>0.052136634</td><td>1.00000000</td><td>0.06167888</td><td>1</td><td>1</td></tr>\n",
              "</tbody>\n",
              "</table>\n"
            ],
            "text/markdown": "**$centers** = \nA matrix: 4 × 8 of type dbl\n\n| <!--/--> | Cough | Fever | Sore_Throat | Shortness_Of_Breath | Headache | Age_60_And_Above | Male | Positive |\n|---|---|---|---|---|---|---|---|---|\n| 1 | 0.09803555 | 0.0000000 | 0.02469598 | 0.018521983 | 0.03910196 | 1.00000000 | 1 | 1 |\n| 2 | 0.06974841 | 0.0000000 | 0.02796365 | 0.007042048 | 0.00000000 | 0.00000000 | 1 | 1 |\n| 3 | 0.33595727 | 1.0000000 | 0.09488333 | 0.036688220 | 0.00000000 | 0.17303908 | 1 | 1 |\n| 4 | 0.32139400 | 0.4180611 | 0.19831282 | 0.052136634 | 1.00000000 | 0.06167888 | 1 | 1 |\n\n",
            "text/latex": "\\textbf{\\$centers} = A matrix: 4 × 8 of type dbl\n\\begin{tabular}{r|llllllll}\n  & Cough & Fever & Sore\\_Throat & Shortness\\_Of\\_Breath & Headache & Age\\_60\\_And\\_Above & Male & Positive\\\\\n\\hline\n\t1 & 0.09803555 & 0.0000000 & 0.02469598 & 0.018521983 & 0.03910196 & 1.00000000 & 1 & 1\\\\\n\t2 & 0.06974841 & 0.0000000 & 0.02796365 & 0.007042048 & 0.00000000 & 0.00000000 & 1 & 1\\\\\n\t3 & 0.33595727 & 1.0000000 & 0.09488333 & 0.036688220 & 0.00000000 & 0.17303908 & 1 & 1\\\\\n\t4 & 0.32139400 & 0.4180611 & 0.19831282 & 0.052136634 & 1.00000000 & 0.06167888 & 1 & 1\\\\\n\\end{tabular}\n",
            "text/plain": [
              "$centers\n",
              "       Cough     Fever Sore_Throat Shortness_Of_Breath   Headache\n",
              "1 0.09803555 0.0000000  0.02469598         0.018521983 0.03910196\n",
              "2 0.06974841 0.0000000  0.02796365         0.007042048 0.00000000\n",
              "3 0.33595727 1.0000000  0.09488333         0.036688220 0.00000000\n",
              "4 0.32139400 0.4180611  0.19831282         0.052136634 1.00000000\n",
              "  Age_60_And_Above Male Positive\n",
              "1       1.00000000    1        1\n",
              "2       0.00000000    1        1\n",
              "3       0.17303908    1        1\n",
              "4       0.06167888    1        1\n"
            ]
          },
          "metadata": {}
        }
      ]
    },
    {
      "cell_type": "code",
      "source": [],
      "metadata": {
        "id": "n-XwOo7pSr-a"
      },
      "execution_count": 19,
      "outputs": []
    },
    {
      "cell_type": "markdown",
      "source": [
        "# **Females:**"
      ],
      "metadata": {
        "id": "Ha_Xsjk4T1QX"
      }
    },
    {
      "cell_type": "code",
      "source": [
        "females = df[df$Male == 0,]"
      ],
      "metadata": {
        "id": "F-tX8tfRT4IT"
      },
      "execution_count": 20,
      "outputs": []
    },
    {
      "cell_type": "code",
      "source": [
        "# Elbow method to find best k value\n",
        "set.seed(123)\n",
        "\n",
        "# function to compute total within-cluster sum of square \n",
        "wss <- function(k) {\n",
        "  kmeans(females, k, nstart = 10 )$tot.withinss\n",
        "}\n",
        "\n",
        "# Compute and plot wss for k = 1 to k = 15\n",
        "k_values <- 1:15\n",
        "\n",
        "# extract wss for 2-15 clusters\n",
        "wss_values <- map_dbl(k_values, wss)\n",
        "\n",
        "plot(k_values, wss_values,\n",
        "       type=\"b\", pch = 19, frame = FALSE, \n",
        "       xlab=\"Number of clusters K\",\n",
        "       ylab=\"Total within-clusters sum of squares\")"
      ],
      "metadata": {
        "colab": {
          "base_uri": "https://localhost:8080/",
          "height": 437
        },
        "id": "ty_GbiC0T4EW",
        "outputId": "61b5e3ee-b589-4f90-f834-6d469a0384d6"
      },
      "execution_count": 21,
      "outputs": [
        {
          "output_type": "display_data",
          "data": {
            "text/plain": [
              "plot without title"
            ],
            "image/png": "[encoded data removed]"
          },
          "metadata": {
            "image/png": {
              "width": 420,
              "height": 420
            }
          }
        }
      ]
    },
    {
      "cell_type": "code",
      "source": [
        "km <- kmeans(females, centers = 4, nstart = 25)\n",
        "km[2]"
      ],
      "metadata": {
        "colab": {
          "base_uri": "https://localhost:8080/",
          "height": 209
        },
        "id": "iIRcvyBIT4DH",
        "outputId": "85bed442-d184-4290-892d-41446831242a"
      },
      "execution_count": 22,
      "outputs": [
        {
          "output_type": "display_data",
          "data": {
            "text/html": [
              "<strong>$centers</strong> = <table class=\"dataframe\">\n",
              "<caption>A matrix: 4 × 8 of type dbl</caption>\n",
              "<thead>\n",
              "\t<tr><th></th><th scope=col>Cough</th><th scope=col>Fever</th><th scope=col>Sore_Throat</th><th scope=col>Shortness_Of_Breath</th><th scope=col>Headache</th><th scope=col>Age_60_And_Above</th><th scope=col>Male</th><th scope=col>Positive</th></tr>\n",
              "</thead>\n",
              "<tbody>\n",
              "\t<tr><th scope=row>1</th><td>0.1551058</td><td>0.1424103</td><td>0.04231831</td><td>0.025574977</td><td>0.04673413</td><td>1.00000000</td><td>0</td><td>1</td></tr>\n",
              "\t<tr><th scope=row>2</th><td>0.0000000</td><td>0.0979128</td><td>0.04259060</td><td>0.009117254</td><td>0.00000000</td><td>0.00000000</td><td>0</td><td>1</td></tr>\n",
              "\t<tr><th scope=row>3</th><td>0.0000000</td><td>0.3229203</td><td>0.20761671</td><td>0.039663040</td><td>1.00000000</td><td>0.03404703</td><td>0</td><td>1</td></tr>\n",
              "\t<tr><th scope=row>4</th><td>1.0000000</td><td>0.3920275</td><td>0.24810997</td><td>0.096632302</td><td>0.42680412</td><td>0.05580756</td><td>0</td><td>1</td></tr>\n",
              "</tbody>\n",
              "</table>\n"
            ],
            "text/markdown": "**$centers** = \nA matrix: 4 × 8 of type dbl\n\n| <!--/--> | Cough | Fever | Sore_Throat | Shortness_Of_Breath | Headache | Age_60_And_Above | Male | Positive |\n|---|---|---|---|---|---|---|---|---|\n| 1 | 0.1551058 | 0.1424103 | 0.04231831 | 0.025574977 | 0.04673413 | 1.00000000 | 0 | 1 |\n| 2 | 0.0000000 | 0.0979128 | 0.04259060 | 0.009117254 | 0.00000000 | 0.00000000 | 0 | 1 |\n| 3 | 0.0000000 | 0.3229203 | 0.20761671 | 0.039663040 | 1.00000000 | 0.03404703 | 0 | 1 |\n| 4 | 1.0000000 | 0.3920275 | 0.24810997 | 0.096632302 | 0.42680412 | 0.05580756 | 0 | 1 |\n\n",
            "text/latex": "\\textbf{\\$centers} = A matrix: 4 × 8 of type dbl\n\\begin{tabular}{r|llllllll}\n  & Cough & Fever & Sore\\_Throat & Shortness\\_Of\\_Breath & Headache & Age\\_60\\_And\\_Above & Male & Positive\\\\\n\\hline\n\t1 & 0.1551058 & 0.1424103 & 0.04231831 & 0.025574977 & 0.04673413 & 1.00000000 & 0 & 1\\\\\n\t2 & 0.0000000 & 0.0979128 & 0.04259060 & 0.009117254 & 0.00000000 & 0.00000000 & 0 & 1\\\\\n\t3 & 0.0000000 & 0.3229203 & 0.20761671 & 0.039663040 & 1.00000000 & 0.03404703 & 0 & 1\\\\\n\t4 & 1.0000000 & 0.3920275 & 0.24810997 & 0.096632302 & 0.42680412 & 0.05580756 & 0 & 1\\\\\n\\end{tabular}\n",
            "text/plain": [
              "$centers\n",
              "      Cough     Fever Sore_Throat Shortness_Of_Breath   Headache\n",
              "1 0.1551058 0.1424103  0.04231831         0.025574977 0.04673413\n",
              "2 0.0000000 0.0979128  0.04259060         0.009117254 0.00000000\n",
              "3 0.0000000 0.3229203  0.20761671         0.039663040 1.00000000\n",
              "4 1.0000000 0.3920275  0.24810997         0.096632302 0.42680412\n",
              "  Age_60_And_Above Male Positive\n",
              "1       1.00000000    0        1\n",
              "2       0.00000000    0        1\n",
              "3       0.03404703    0        1\n",
              "4       0.05580756    0        1\n"
            ]
          },
          "metadata": {}
        }
      ]
    },
    {
      "cell_type": "markdown",
      "source": [
        "# **Old:**"
      ],
      "metadata": {
        "id": "3T73WmplUIus"
      }
    },
    {
      "cell_type": "code",
      "source": [
        "old = df[df$Age_60_And_Above == 1,]"
      ],
      "metadata": {
        "id": "-qq_2uRUVYIj"
      },
      "execution_count": 23,
      "outputs": []
    },
    {
      "cell_type": "code",
      "source": [
        "# Elbow method to find best k value\n",
        "set.seed(123)\n",
        "\n",
        "# function to compute total within-cluster sum of square \n",
        "wss <- function(k) {\n",
        "  kmeans(old, k, nstart = 10 )$tot.withinss\n",
        "}\n",
        "\n",
        "# Compute and plot wss for k = 1 to k = 15\n",
        "k_values <- 1:15\n",
        "\n",
        "# extract wss for 2-15 clusters\n",
        "wss_values <- map_dbl(k_values, wss)\n",
        "\n",
        "plot(k_values, wss_values,\n",
        "       type=\"b\", pch = 19, frame = FALSE, \n",
        "       xlab=\"Number of clusters K\",\n",
        "       ylab=\"Total within-clusters sum of squares\")"
      ],
      "metadata": {
        "colab": {
          "base_uri": "https://localhost:8080/",
          "height": 437
        },
        "id": "-tZNAAFPVYFQ",
        "outputId": "e46ff57c-e696-47e0-b46a-95e4aed767b2"
      },
      "execution_count": 24,
      "outputs": [
        {
          "output_type": "display_data",
          "data": {
            "text/plain": [
              "plot without title"
            ],
            "image/png": "[encoded data removed]"
          },
          "metadata": {
            "image/png": {
              "width": 420,
              "height": 420
            }
          }
        }
      ]
    },
    {
      "cell_type": "code",
      "source": [
        "km = kmeans(old, centers = 4, nstart = 25)\n",
        "km[2]"
      ],
      "metadata": {
        "colab": {
          "base_uri": "https://localhost:8080/",
          "height": 209
        },
        "id": "rifz-9BIVYDy",
        "outputId": "26e3d52a-48e8-448d-b288-f6f266dc91e7"
      },
      "execution_count": 25,
      "outputs": [
        {
          "output_type": "display_data",
          "data": {
            "text/html": [
              "<strong>$centers</strong> = <table class=\"dataframe\">\n",
              "<caption>A matrix: 4 × 8 of type dbl</caption>\n",
              "<thead>\n",
              "\t<tr><th></th><th scope=col>Cough</th><th scope=col>Fever</th><th scope=col>Sore_Throat</th><th scope=col>Shortness_Of_Breath</th><th scope=col>Headache</th><th scope=col>Age_60_And_Above</th><th scope=col>Male</th><th scope=col>Positive</th></tr>\n",
              "</thead>\n",
              "<tbody>\n",
              "\t<tr><th scope=row>1</th><td>0.09683060</td><td>0.0000000</td><td>0.03060109</td><td>0.01442623</td><td>0.06251366</td><td>1</td><td>0.0000000</td><td>1</td></tr>\n",
              "\t<tr><th scope=row>2</th><td>1.00000000</td><td>0.6677019</td><td>0.22049689</td><td>0.14037267</td><td>0.39006211</td><td>1</td><td>0.4993789</td><td>1</td></tr>\n",
              "\t<tr><th scope=row>3</th><td>0.08300246</td><td>0.0000000</td><td>0.02079788</td><td>0.01153337</td><td>0.04499905</td><td>1</td><td>1.0000000</td><td>1</td></tr>\n",
              "\t<tr><th scope=row>4</th><td>0.00000000</td><td>1.0000000</td><td>0.08085913</td><td>0.04548326</td><td>0.19140872</td><td>1</td><td>0.5868604</td><td>1</td></tr>\n",
              "</tbody>\n",
              "</table>\n"
            ],
            "text/markdown": "**$centers** = \nA matrix: 4 × 8 of type dbl\n\n| <!--/--> | Cough | Fever | Sore_Throat | Shortness_Of_Breath | Headache | Age_60_And_Above | Male | Positive |\n|---|---|---|---|---|---|---|---|---|\n| 1 | 0.09683060 | 0.0000000 | 0.03060109 | 0.01442623 | 0.06251366 | 1 | 0.0000000 | 1 |\n| 2 | 1.00000000 | 0.6677019 | 0.22049689 | 0.14037267 | 0.39006211 | 1 | 0.4993789 | 1 |\n| 3 | 0.08300246 | 0.0000000 | 0.02079788 | 0.01153337 | 0.04499905 | 1 | 1.0000000 | 1 |\n| 4 | 0.00000000 | 1.0000000 | 0.08085913 | 0.04548326 | 0.19140872 | 1 | 0.5868604 | 1 |\n\n",
            "text/latex": "\\textbf{\\$centers} = A matrix: 4 × 8 of type dbl\n\\begin{tabular}{r|llllllll}\n  & Cough & Fever & Sore\\_Throat & Shortness\\_Of\\_Breath & Headache & Age\\_60\\_And\\_Above & Male & Positive\\\\\n\\hline\n\t1 & 0.09683060 & 0.0000000 & 0.03060109 & 0.01442623 & 0.06251366 & 1 & 0.0000000 & 1\\\\\n\t2 & 1.00000000 & 0.6677019 & 0.22049689 & 0.14037267 & 0.39006211 & 1 & 0.4993789 & 1\\\\\n\t3 & 0.08300246 & 0.0000000 & 0.02079788 & 0.01153337 & 0.04499905 & 1 & 1.0000000 & 1\\\\\n\t4 & 0.00000000 & 1.0000000 & 0.08085913 & 0.04548326 & 0.19140872 & 1 & 0.5868604 & 1\\\\\n\\end{tabular}\n",
            "text/plain": [
              "$centers\n",
              "       Cough     Fever Sore_Throat Shortness_Of_Breath   Headache\n",
              "1 0.09683060 0.0000000  0.03060109          0.01442623 0.06251366\n",
              "2 1.00000000 0.6677019  0.22049689          0.14037267 0.39006211\n",
              "3 0.08300246 0.0000000  0.02079788          0.01153337 0.04499905\n",
              "4 0.00000000 1.0000000  0.08085913          0.04548326 0.19140872\n",
              "  Age_60_And_Above      Male Positive\n",
              "1                1 0.0000000        1\n",
              "2                1 0.4993789        1\n",
              "3                1 1.0000000        1\n",
              "4                1 0.5868604        1\n"
            ]
          },
          "metadata": {}
        }
      ]
    },
    {
      "cell_type": "markdown",
      "source": [
        "# **Young**"
      ],
      "metadata": {
        "id": "qdu1x33CW3FA"
      }
    },
    {
      "cell_type": "code",
      "source": [
        "young = df[df$Age_60_And_Above == 0,]"
      ],
      "metadata": {
        "id": "21Gt9UutW5c5"
      },
      "execution_count": 26,
      "outputs": []
    },
    {
      "cell_type": "code",
      "source": [
        "# Elbow method to find best k value\n",
        "set.seed(123)\n",
        "\n",
        "# function to compute total within-cluster sum of square \n",
        "wss <- function(k) {\n",
        "  kmeans(young, k, nstart = 10 )$tot.withinss\n",
        "}\n",
        "\n",
        "# Compute and plot wss for k = 1 to k = 15\n",
        "k_values <- 1:15\n",
        "\n",
        "# extract wss for 2-15 clusters\n",
        "wss_values <- map_dbl(k_values, wss)\n",
        "\n",
        "plot(k_values, wss_values,\n",
        "       type=\"b\", pch = 19, frame = FALSE, \n",
        "       xlab=\"Number of clusters K\",\n",
        "       ylab=\"Total within-clusters sum of squares\")"
      ],
      "metadata": {
        "colab": {
          "base_uri": "https://localhost:8080/",
          "height": 437
        },
        "id": "WcgrkJp1W5aB",
        "outputId": "0aa75d01-900d-4ce7-f8f7-70f15e1abcb5"
      },
      "execution_count": 27,
      "outputs": [
        {
          "output_type": "display_data",
          "data": {
            "text/plain": [
              "plot without title"
            ],
            "image/png": "[encoded data removed]"
          },
          "metadata": {
            "image/png": {
              "width": 420,
              "height": 420
            }
          }
        }
      ]
    },
    {
      "cell_type": "code",
      "source": [
        "km = kmeans(young, 4, nstart = 25)\n",
        "km[2] "
      ],
      "metadata": {
        "colab": {
          "base_uri": "https://localhost:8080/",
          "height": 209
        },
        "id": "d0q7YRRBW5W7",
        "outputId": "3aeb5883-ce19-449a-e676-11bb7841ea73"
      },
      "execution_count": 28,
      "outputs": [
        {
          "output_type": "display_data",
          "data": {
            "text/html": [
              "<strong>$centers</strong> = <table class=\"dataframe\">\n",
              "<caption>A matrix: 4 × 8 of type dbl</caption>\n",
              "<thead>\n",
              "\t<tr><th></th><th scope=col>Cough</th><th scope=col>Fever</th><th scope=col>Sore_Throat</th><th scope=col>Shortness_Of_Breath</th><th scope=col>Headache</th><th scope=col>Age_60_And_Above</th><th scope=col>Male</th><th scope=col>Positive</th></tr>\n",
              "</thead>\n",
              "<tbody>\n",
              "\t<tr><th scope=row>1</th><td>0</td><td>0.0979128</td><td>0.04259060</td><td>0.009117254</td><td>0.0000000</td><td>0</td><td>0.0000000</td><td>1</td></tr>\n",
              "\t<tr><th scope=row>2</th><td>1</td><td>0.4199683</td><td>0.21009735</td><td>0.079239303</td><td>0.3623123</td><td>0</td><td>0.4816240</td><td>1</td></tr>\n",
              "\t<tr><th scope=row>3</th><td>0</td><td>0.3362953</td><td>0.18103701</td><td>0.033102236</td><td>1.0000000</td><td>0</td><td>0.4625525</td><td>1</td></tr>\n",
              "\t<tr><th scope=row>4</th><td>0</td><td>0.1100302</td><td>0.02921279</td><td>0.006485519</td><td>0.0000000</td><td>0</td><td>1.0000000</td><td>1</td></tr>\n",
              "</tbody>\n",
              "</table>\n"
            ],
            "text/markdown": "**$centers** = \nA matrix: 4 × 8 of type dbl\n\n| <!--/--> | Cough | Fever | Sore_Throat | Shortness_Of_Breath | Headache | Age_60_And_Above | Male | Positive |\n|---|---|---|---|---|---|---|---|---|\n| 1 | 0 | 0.0979128 | 0.04259060 | 0.009117254 | 0.0000000 | 0 | 0.0000000 | 1 |\n| 2 | 1 | 0.4199683 | 0.21009735 | 0.079239303 | 0.3623123 | 0 | 0.4816240 | 1 |\n| 3 | 0 | 0.3362953 | 0.18103701 | 0.033102236 | 1.0000000 | 0 | 0.4625525 | 1 |\n| 4 | 0 | 0.1100302 | 0.02921279 | 0.006485519 | 0.0000000 | 0 | 1.0000000 | 1 |\n\n",
            "text/latex": "\\textbf{\\$centers} = A matrix: 4 × 8 of type dbl\n\\begin{tabular}{r|llllllll}\n  & Cough & Fever & Sore\\_Throat & Shortness\\_Of\\_Breath & Headache & Age\\_60\\_And\\_Above & Male & Positive\\\\\n\\hline\n\t1 & 0 & 0.0979128 & 0.04259060 & 0.009117254 & 0.0000000 & 0 & 0.0000000 & 1\\\\\n\t2 & 1 & 0.4199683 & 0.21009735 & 0.079239303 & 0.3623123 & 0 & 0.4816240 & 1\\\\\n\t3 & 0 & 0.3362953 & 0.18103701 & 0.033102236 & 1.0000000 & 0 & 0.4625525 & 1\\\\\n\t4 & 0 & 0.1100302 & 0.02921279 & 0.006485519 & 0.0000000 & 0 & 1.0000000 & 1\\\\\n\\end{tabular}\n",
            "text/plain": [
              "$centers\n",
              "  Cough     Fever Sore_Throat Shortness_Of_Breath  Headache Age_60_And_Above\n",
              "1     0 0.0979128  0.04259060         0.009117254 0.0000000                0\n",
              "2     1 0.4199683  0.21009735         0.079239303 0.3623123                0\n",
              "3     0 0.3362953  0.18103701         0.033102236 1.0000000                0\n",
              "4     0 0.1100302  0.02921279         0.006485519 0.0000000                0\n",
              "       Male Positive\n",
              "1 0.0000000        1\n",
              "2 0.4816240        1\n",
              "3 0.4625525        1\n",
              "4 1.0000000        1\n"
            ]
          },
          "metadata": {}
        }
      ]
    },
    {
      "cell_type": "code",
      "source": [],
      "metadata": {
        "id": "IuzVDgSDSeBo"
      },
      "execution_count": 30,
      "outputs": []
    }
  ]
}