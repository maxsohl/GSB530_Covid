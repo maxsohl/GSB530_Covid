{
  "nbformat": 4,
  "nbformat_minor": 0,
  "metadata": {
    "colab": {
      "provenance": [],
      "authorship_tag": "ABX9TyP04ENtCNetS5ygbIpAo7e3",
      "include_colab_link": true
    },
    "kernelspec": {
      "name": "ir",
      "display_name": "R"
    },
    "language_info": {
      "name": "R"
    },
    "gpuClass": "standard",
    "accelerator": "GPU"
  },
  "cells": [
    {
      "cell_type": "markdown",
      "metadata": {
        "id": "view-in-github",
        "colab_type": "text"
      },
      "source": [
        "<a href=\"https://colab.research.google.com/github/maxsohl/GSB530_Covid/blob/main/Naive_Bayes.ipynb\" target=\"_parent\"><img src=\"https://colab.research.google.com/assets/colab-badge.svg\" alt=\"Open In Colab\"/></a>"
      ]
    },
    {
      "cell_type": "code",
      "source": [
        "#install.packages('caret')"
      ],
      "metadata": {
        "colab": {
          "base_uri": "https://localhost:8080/"
        },
        "id": "3iWoiyMcLzqD",
        "outputId": "f3581383-dca8-4bd9-b961-fe4bbdafb895"
      },
      "execution_count": 31,
      "outputs": [
        {
          "output_type": "stream",
          "name": "stderr",
          "text": [
            "Installing package into ‘/usr/local/lib/R/site-library’\n",
            "(as ‘lib’ is unspecified)\n",
            "\n",
            "also installing the dependencies ‘listenv’, ‘parallelly’, ‘future’, ‘globals’, ‘future.apply’, ‘numDeriv’, ‘progressr’, ‘SQUAREM’, ‘lava’, ‘prodlim’, ‘iterators’, ‘clock’, ‘gower’, ‘hardhat’, ‘ipred’, ‘timeDate’, ‘foreach’, ‘ModelMetrics’, ‘plyr’, ‘pROC’, ‘recipes’, ‘reshape2’\n",
            "\n",
            "\n"
          ]
        }
      ]
    },
    {
      "cell_type": "code",
      "execution_count": 32,
      "metadata": {
        "colab": {
          "base_uri": "https://localhost:8080/"
        },
        "id": "9Eet7MuwCGoL",
        "outputId": "28238b6e-8b1c-4a08-c309-eb4bfab5382e"
      },
      "outputs": [
        {
          "output_type": "stream",
          "name": "stderr",
          "text": [
            "Loading required package: lattice\n",
            "\n",
            "\n",
            "Attaching package: ‘caret’\n",
            "\n",
            "\n",
            "The following object is masked from ‘package:purrr’:\n",
            "\n",
            "    lift\n",
            "\n",
            "\n"
          ]
        }
      ],
      "source": [
        "library(tidyverse)  # data manipulation\n",
        "library(ggplot2)\n",
        "library(readr)\n",
        "library(readxl)\n",
        "library(klaR)\n",
        "library(caret)\n",
        "library(naivebayes)\n",
        "library(dplyr)\n",
        "library(ggplot2)\n",
        "#library(psych)\n"
      ]
    },
    {
      "cell_type": "markdown",
      "source": [
        "# **Full Dataset**"
      ],
      "metadata": {
        "id": "yENn4zJQSUMi"
      }
    },
    {
      "cell_type": "code",
      "source": [
        "df = read_excel(\"COVID_TESTING_DATASET.xlsx\")"
      ],
      "metadata": {
        "id": "BgbEVWZ2ESvQ"
      },
      "execution_count": 34,
      "outputs": []
    },
    {
      "cell_type": "code",
      "source": [
        "# Clean data\n",
        "df = na.omit(df)\n",
        "df$Age_60_And_Above <- ifelse(df$Age_60_And_Above == \"Yes\", 1, 0)\n",
        "df$Male <- ifelse(df$Sex == \"male\", 1, 0)\n",
        "df$Positive <- ifelse(df$Result == \"positive\", 1, 0)\n",
        "df$Positive <- as.factor(df$Positive)\n",
        "df = subset(df, select = -c(Sex,Result) )\n",
        "head(df)"
      ],
      "metadata": {
        "id": "1-Bl9R8XEYJ2",
        "colab": {
          "base_uri": "https://localhost:8080/",
          "height": 286
        },
        "outputId": "71aaf79b-20bc-4071-d656-f6054a777a56"
      },
      "execution_count": 35,
      "outputs": [
        {
          "output_type": "display_data",
          "data": {
            "text/html": [
              "<table class=\"dataframe\">\n",
              "<caption>A tibble: 6 × 9</caption>\n",
              "<thead>\n",
              "\t<tr><th scope=col>Cough</th><th scope=col>Fever</th><th scope=col>Sore_Throat</th><th scope=col>Shortness_Of_Breath</th><th scope=col>Headache</th><th scope=col>Age_60_And_Above</th><th scope=col>Contact</th><th scope=col>Male</th><th scope=col>Positive</th></tr>\n",
              "\t<tr><th scope=col>&lt;dbl&gt;</th><th scope=col>&lt;dbl&gt;</th><th scope=col>&lt;dbl&gt;</th><th scope=col>&lt;dbl&gt;</th><th scope=col>&lt;dbl&gt;</th><th scope=col>&lt;dbl&gt;</th><th scope=col>&lt;dbl&gt;</th><th scope=col>&lt;dbl&gt;</th><th scope=col>&lt;fct&gt;</th></tr>\n",
              "</thead>\n",
              "<tbody>\n",
              "\t<tr><td>0</td><td>0</td><td>0</td><td>0</td><td>0</td><td>0</td><td>0</td><td>0</td><td>0</td></tr>\n",
              "\t<tr><td>0</td><td>0</td><td>0</td><td>0</td><td>0</td><td>0</td><td>0</td><td>0</td><td>0</td></tr>\n",
              "\t<tr><td>1</td><td>0</td><td>0</td><td>0</td><td>0</td><td>0</td><td>0</td><td>0</td><td>0</td></tr>\n",
              "\t<tr><td>0</td><td>0</td><td>0</td><td>0</td><td>0</td><td>0</td><td>0</td><td>1</td><td>0</td></tr>\n",
              "\t<tr><td>0</td><td>0</td><td>0</td><td>0</td><td>0</td><td>0</td><td>0</td><td>0</td><td>0</td></tr>\n",
              "\t<tr><td>1</td><td>0</td><td>0</td><td>0</td><td>0</td><td>1</td><td>1</td><td>0</td><td>0</td></tr>\n",
              "</tbody>\n",
              "</table>\n"
            ],
            "text/markdown": "\nA tibble: 6 × 9\n\n| Cough &lt;dbl&gt; | Fever &lt;dbl&gt; | Sore_Throat &lt;dbl&gt; | Shortness_Of_Breath &lt;dbl&gt; | Headache &lt;dbl&gt; | Age_60_And_Above &lt;dbl&gt; | Contact &lt;dbl&gt; | Male &lt;dbl&gt; | Positive &lt;fct&gt; |\n|---|---|---|---|---|---|---|---|---|\n| 0 | 0 | 0 | 0 | 0 | 0 | 0 | 0 | 0 |\n| 0 | 0 | 0 | 0 | 0 | 0 | 0 | 0 | 0 |\n| 1 | 0 | 0 | 0 | 0 | 0 | 0 | 0 | 0 |\n| 0 | 0 | 0 | 0 | 0 | 0 | 0 | 1 | 0 |\n| 0 | 0 | 0 | 0 | 0 | 0 | 0 | 0 | 0 |\n| 1 | 0 | 0 | 0 | 0 | 1 | 1 | 0 | 0 |\n\n",
            "text/latex": "A tibble: 6 × 9\n\\begin{tabular}{lllllllll}\n Cough & Fever & Sore\\_Throat & Shortness\\_Of\\_Breath & Headache & Age\\_60\\_And\\_Above & Contact & Male & Positive\\\\\n <dbl> & <dbl> & <dbl> & <dbl> & <dbl> & <dbl> & <dbl> & <dbl> & <fct>\\\\\n\\hline\n\t 0 & 0 & 0 & 0 & 0 & 0 & 0 & 0 & 0\\\\\n\t 0 & 0 & 0 & 0 & 0 & 0 & 0 & 0 & 0\\\\\n\t 1 & 0 & 0 & 0 & 0 & 0 & 0 & 0 & 0\\\\\n\t 0 & 0 & 0 & 0 & 0 & 0 & 0 & 1 & 0\\\\\n\t 0 & 0 & 0 & 0 & 0 & 0 & 0 & 0 & 0\\\\\n\t 1 & 0 & 0 & 0 & 0 & 1 & 1 & 0 & 0\\\\\n\\end{tabular}\n",
            "text/plain": [
              "  Cough Fever Sore_Throat Shortness_Of_Breath Headache Age_60_And_Above Contact\n",
              "1 0     0     0           0                   0        0                0      \n",
              "2 0     0     0           0                   0        0                0      \n",
              "3 1     0     0           0                   0        0                0      \n",
              "4 0     0     0           0                   0        0                0      \n",
              "5 0     0     0           0                   0        0                0      \n",
              "6 1     0     0           0                   0        1                1      \n",
              "  Male Positive\n",
              "1 0    0       \n",
              "2 0    0       \n",
              "3 0    0       \n",
              "4 1    0       \n",
              "5 0    0       \n",
              "6 0    0       "
            ]
          },
          "metadata": {}
        }
      ]
    },
    {
      "cell_type": "code",
      "source": [
        "set.seed(1234)\n",
        "ind <- sample(2, nrow(df), replace = T, prob = c(0.6, 0.4))\n",
        "train <- df[ind == 1,]\n",
        "test <- df[ind == 2,] \n",
        "\n",
        "x_test<-test[, 1:8]\n",
        "y_test<-test[,9]\n",
        "\n",
        "model <- naive_bayes(Positive ~ ., data = train, usekernel = T) \n",
        "predictions<-predict(model, x_test)\n",
        "confusionMatrix(predictions, y_test$Positive)"
      ],
      "metadata": {
        "colab": {
          "base_uri": "https://localhost:8080/",
          "height": 485
        },
        "id": "97c-DeWPlQ0p",
        "outputId": "adb80f5a-6c55-4570-89e8-9a16d4467ffa"
      },
      "execution_count": 56,
      "outputs": [
        {
          "output_type": "display_data",
          "data": {
            "text/plain": [
              "Confusion Matrix and Statistics\n",
              "\n",
              "          Reference\n",
              "Prediction      0      1\n",
              "         0 350023  40977\n",
              "         1     53    285\n",
              "                                          \n",
              "               Accuracy : 0.8952          \n",
              "                 95% CI : (0.8942, 0.8961)\n",
              "    No Information Rate : 0.8946          \n",
              "    P-Value [Acc > NIR] : 0.1141          \n",
              "                                          \n",
              "                  Kappa : 0.012           \n",
              "                                          \n",
              " Mcnemar's Test P-Value : <2e-16          \n",
              "                                          \n",
              "            Sensitivity : 0.999849        \n",
              "            Specificity : 0.006907        \n",
              "         Pos Pred Value : 0.895199        \n",
              "         Neg Pred Value : 0.843195        \n",
              "             Prevalence : 0.894562        \n",
              "         Detection Rate : 0.894426        \n",
              "   Detection Prevalence : 0.999136        \n",
              "      Balanced Accuracy : 0.503378        \n",
              "                                          \n",
              "       'Positive' Class : 0               \n",
              "                                          "
            ]
          },
          "metadata": {}
        }
      ]
    },
    {
      "cell_type": "markdown",
      "source": [
        "# **Males:**"
      ],
      "metadata": {
        "id": "4c88E-g8rMdE"
      }
    },
    {
      "cell_type": "code",
      "source": [
        "males = df[df$Male == 1,]"
      ],
      "metadata": {
        "id": "X7GpSUCPjO_N"
      },
      "execution_count": 58,
      "outputs": []
    },
    {
      "cell_type": "code",
      "source": [
        "set.seed(1234)\n",
        "ind <- sample(2, nrow(males), replace = T, prob = c(0.6, 0.4))\n",
        "train <- males[ind == 1,]\n",
        "test <- males[ind == 2,] \n",
        "\n",
        "x_test<-test[, 1:8]\n",
        "y_test<-test[,9]\n",
        "\n",
        "model <- naive_bayes(Positive ~ ., data = train, usekernel = T) \n",
        "predictions<-predict(model, x_test)\n",
        "confusionMatrix(predictions, y_test$Positive)"
      ],
      "metadata": {
        "colab": {
          "base_uri": "https://localhost:8080/",
          "height": 485
        },
        "id": "5F4XSIFumOcR",
        "outputId": "fbaf04b2-9278-4a80-a4e0-225d2071dece"
      },
      "execution_count": 59,
      "outputs": [
        {
          "output_type": "display_data",
          "data": {
            "text/plain": [
              "Confusion Matrix and Statistics\n",
              "\n",
              "          Reference\n",
              "Prediction      0      1\n",
              "         0 168939  21505\n",
              "         1     19    124\n",
              "                                          \n",
              "               Accuracy : 0.8871          \n",
              "                 95% CI : (0.8856, 0.8885)\n",
              "    No Information Rate : 0.8865          \n",
              "    P-Value [Acc > NIR] : 0.2253          \n",
              "                                          \n",
              "                  Kappa : 0.0099          \n",
              "                                          \n",
              " Mcnemar's Test P-Value : <2e-16          \n",
              "                                          \n",
              "            Sensitivity : 0.999888        \n",
              "            Specificity : 0.005733        \n",
              "         Pos Pred Value : 0.887080        \n",
              "         Neg Pred Value : 0.867133        \n",
              "             Prevalence : 0.886514        \n",
              "         Detection Rate : 0.886414        \n",
              "   Detection Prevalence : 0.999250        \n",
              "      Balanced Accuracy : 0.502810        \n",
              "                                          \n",
              "       'Positive' Class : 0               \n",
              "                                          "
            ]
          },
          "metadata": {}
        }
      ]
    },
    {
      "cell_type": "markdown",
      "source": [
        "# **Females**"
      ],
      "metadata": {
        "id": "3JRWIIBlrjCe"
      }
    },
    {
      "cell_type": "code",
      "source": [
        "females = df[df$Male == 0,]\n",
        "set.seed(1234)\n",
        "ind <- sample(2, nrow(females), replace = T, prob = c(0.6, 0.4))\n",
        "train <- females[ind == 1,]\n",
        "test <- females[ind == 2,] \n",
        "\n",
        "x_test<-test[, 1:8]\n",
        "y_test<-test[,9]\n",
        "\n",
        "model <- naive_bayes(Positive ~ ., data = train, usekernel = T) \n",
        "predictions<-predict(model, x_test)\n",
        "confusionMatrix(predictions, y_test$Positive)"
      ],
      "metadata": {
        "colab": {
          "base_uri": "https://localhost:8080/",
          "height": 485
        },
        "id": "V-itJl91kRbo",
        "outputId": "5552dee6-d6dd-4bb9-cb7a-e998fbe47c32"
      },
      "execution_count": 60,
      "outputs": [
        {
          "output_type": "display_data",
          "data": {
            "text/plain": [
              "Confusion Matrix and Statistics\n",
              "\n",
              "          Reference\n",
              "Prediction      0      1\n",
              "         0 181478  19474\n",
              "         1     39    187\n",
              "                                          \n",
              "               Accuracy : 0.903           \n",
              "                 95% CI : (0.9017, 0.9043)\n",
              "    No Information Rate : 0.9023          \n",
              "    P-Value [Acc > NIR] : 0.134           \n",
              "                                          \n",
              "                  Kappa : 0.0166          \n",
              "                                          \n",
              " Mcnemar's Test P-Value : <2e-16          \n",
              "                                          \n",
              "            Sensitivity : 0.999785        \n",
              "            Specificity : 0.009511        \n",
              "         Pos Pred Value : 0.903091        \n",
              "         Neg Pred Value : 0.827434        \n",
              "             Prevalence : 0.902271        \n",
              "         Detection Rate : 0.902077        \n",
              "   Detection Prevalence : 0.998877        \n",
              "      Balanced Accuracy : 0.504648        \n",
              "                                          \n",
              "       'Positive' Class : 0               \n",
              "                                          "
            ]
          },
          "metadata": {}
        }
      ]
    },
    {
      "cell_type": "markdown",
      "source": [
        "# **Old**"
      ],
      "metadata": {
        "id": "K8Y__nvlruzE"
      }
    },
    {
      "cell_type": "code",
      "source": [
        "old = df[df$Age_60_And_Above\t == 1,]\n",
        "set.seed(1234)\n",
        "ind <- sample(2, nrow(old), replace = T, prob = c(0.6, 0.4))\n",
        "train <- old[ind == 1,]\n",
        "test <- old[ind == 2,] \n",
        "\n",
        "x_test<-test[, 1:8]\n",
        "y_test<-test[,9]\n",
        "\n",
        "model <- naive_bayes(Positive ~ ., data = train, usekernel = T) \n",
        "predictions<-predict(model, x_test)\n",
        "confusionMatrix(predictions, y_test$Positive)\n",
        "\n"
      ],
      "metadata": {
        "colab": {
          "base_uri": "https://localhost:8080/",
          "height": 485
        },
        "id": "swGApaholwzg",
        "outputId": "ac02531a-9c51-463e-e3e2-e4b09bc803f7"
      },
      "execution_count": 61,
      "outputs": [
        {
          "output_type": "display_data",
          "data": {
            "text/plain": [
              "Confusion Matrix and Statistics\n",
              "\n",
              "          Reference\n",
              "Prediction     0     1\n",
              "         0 47085  5092\n",
              "         1     2    24\n",
              "                                         \n",
              "               Accuracy : 0.9024         \n",
              "                 95% CI : (0.8998, 0.905)\n",
              "    No Information Rate : 0.902          \n",
              "    P-Value [Acc > NIR] : 0.3765         \n",
              "                                         \n",
              "                  Kappa : 0.0084         \n",
              "                                         \n",
              " Mcnemar's Test P-Value : <2e-16         \n",
              "                                         \n",
              "            Sensitivity : 0.999958       \n",
              "            Specificity : 0.004691       \n",
              "         Pos Pred Value : 0.902409       \n",
              "         Neg Pred Value : 0.923077       \n",
              "             Prevalence : 0.901998       \n",
              "         Detection Rate : 0.901960       \n",
              "   Detection Prevalence : 0.999502       \n",
              "      Balanced Accuracy : 0.502324       \n",
              "                                         \n",
              "       'Positive' Class : 0              \n",
              "                                         "
            ]
          },
          "metadata": {}
        }
      ]
    },
    {
      "cell_type": "markdown",
      "source": [
        "# **Young**"
      ],
      "metadata": {
        "id": "nAn7jMq-r7ly"
      }
    },
    {
      "cell_type": "code",
      "source": [
        "young = df[df$Age_60_And_Above\t == 0,]\n",
        "set.seed(1234)\n",
        "ind <- sample(2, nrow(young), replace = T, prob = c(0.6, 0.4))\n",
        "train <- young[ind == 1,]\n",
        "test <- young[ind == 2,] \n",
        "\n",
        "x_test<-test[, 1:8]\n",
        "y_test<-test[,9]\n",
        "\n",
        "model <- naive_bayes(Positive ~ ., data = train, usekernel = T) \n",
        "predictions<-predict(model, x_test)\n",
        "confusionMatrix(predictions, y_test$Positive)\n",
        "\n"
      ],
      "metadata": {
        "colab": {
          "base_uri": "https://localhost:8080/",
          "height": 485
        },
        "id": "RpRWmcntpbpk",
        "outputId": "62618038-5613-466b-db9f-fabcbca2c3b1"
      },
      "execution_count": 62,
      "outputs": [
        {
          "output_type": "display_data",
          "data": {
            "text/plain": [
              "Confusion Matrix and Statistics\n",
              "\n",
              "          Reference\n",
              "Prediction      0      1\n",
              "         0 303188  35694\n",
              "         1     51    254\n",
              "                                          \n",
              "               Accuracy : 0.8946          \n",
              "                 95% CI : (0.8936, 0.8956)\n",
              "    No Information Rate : 0.894           \n",
              "    P-Value [Acc > NIR] : 0.1293          \n",
              "                                          \n",
              "                  Kappa : 0.0123          \n",
              "                                          \n",
              " Mcnemar's Test P-Value : <2e-16          \n",
              "                                          \n",
              "            Sensitivity : 0.999832        \n",
              "            Specificity : 0.007066        \n",
              "         Pos Pred Value : 0.894671        \n",
              "         Neg Pred Value : 0.832787        \n",
              "             Prevalence : 0.894017        \n",
              "         Detection Rate : 0.893867        \n",
              "   Detection Prevalence : 0.999101        \n",
              "      Balanced Accuracy : 0.503449        \n",
              "                                          \n",
              "       'Positive' Class : 0               \n",
              "                                          "
            ]
          },
          "metadata": {}
        }
      ]
    },
    {
      "cell_type": "code",
      "source": [],
      "metadata": {
        "id": "jLJ1VrPBsCma"
      },
      "execution_count": null,
      "outputs": []
    }
  ]
}